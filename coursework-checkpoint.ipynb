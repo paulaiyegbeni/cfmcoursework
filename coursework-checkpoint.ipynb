{
 "cells": [
  {
   "cell_type": "code",
   "execution_count": 1,
   "metadata": {},
   "outputs": [],
   "source": [
    "import yfinance as yf\n",
    "import numpy as np\n",
    "import pandas as pd\n",
    "import matplotlib as mpl\n",
    "import matplotlib.pyplot as plt\n",
    "import scipy.stats as si\n",
    "import os"
   ]
  },
  {
   "cell_type": "code",
   "execution_count": 2,
   "metadata": {},
   "outputs": [
    {
     "name": "stdout",
     "output_type": "stream",
     "text": [
      "[*********************100%***********************]  1 of 1 completed\n"
     ]
    }
   ],
   "source": [
    "dp = yf.download(\"FRC\", start=\"2020-03-01\", end=\"2021-03-01\")"
   ]
  },
  {
   "cell_type": "code",
   "execution_count": 5,
   "metadata": {
    "scrolled": true
   },
   "outputs": [
    {
     "data": {
      "text/html": [
       "<div>\n",
       "<style scoped>\n",
       "    .dataframe tbody tr th:only-of-type {\n",
       "        vertical-align: middle;\n",
       "    }\n",
       "\n",
       "    .dataframe tbody tr th {\n",
       "        vertical-align: top;\n",
       "    }\n",
       "\n",
       "    .dataframe thead th {\n",
       "        text-align: right;\n",
       "    }\n",
       "</style>\n",
       "<table border=\"1\" class=\"dataframe\">\n",
       "  <thead>\n",
       "    <tr style=\"text-align: right;\">\n",
       "      <th></th>\n",
       "      <th>Open</th>\n",
       "      <th>High</th>\n",
       "      <th>Low</th>\n",
       "      <th>Close</th>\n",
       "      <th>Adj Close</th>\n",
       "      <th>Volume</th>\n",
       "    </tr>\n",
       "    <tr>\n",
       "      <th>Date</th>\n",
       "      <th></th>\n",
       "      <th></th>\n",
       "      <th></th>\n",
       "      <th></th>\n",
       "      <th></th>\n",
       "      <th></th>\n",
       "    </tr>\n",
       "  </thead>\n",
       "  <tbody>\n",
       "    <tr>\n",
       "      <th>2020-03-02</th>\n",
       "      <td>100.410004</td>\n",
       "      <td>105.739998</td>\n",
       "      <td>99.360001</td>\n",
       "      <td>105.680000</td>\n",
       "      <td>104.986069</td>\n",
       "      <td>1655600</td>\n",
       "    </tr>\n",
       "    <tr>\n",
       "      <th>2020-03-03</th>\n",
       "      <td>105.139999</td>\n",
       "      <td>106.870003</td>\n",
       "      <td>100.379997</td>\n",
       "      <td>101.760002</td>\n",
       "      <td>101.091820</td>\n",
       "      <td>1665300</td>\n",
       "    </tr>\n",
       "    <tr>\n",
       "      <th>2020-03-04</th>\n",
       "      <td>102.169998</td>\n",
       "      <td>104.809998</td>\n",
       "      <td>100.330002</td>\n",
       "      <td>104.709999</td>\n",
       "      <td>104.022446</td>\n",
       "      <td>1348800</td>\n",
       "    </tr>\n",
       "    <tr>\n",
       "      <th>2020-03-05</th>\n",
       "      <td>101.040001</td>\n",
       "      <td>101.930000</td>\n",
       "      <td>98.540001</td>\n",
       "      <td>99.870003</td>\n",
       "      <td>99.214233</td>\n",
       "      <td>1233700</td>\n",
       "    </tr>\n",
       "    <tr>\n",
       "      <th>2020-03-06</th>\n",
       "      <td>95.440002</td>\n",
       "      <td>97.930000</td>\n",
       "      <td>92.779999</td>\n",
       "      <td>94.910004</td>\n",
       "      <td>94.286797</td>\n",
       "      <td>1890600</td>\n",
       "    </tr>\n",
       "  </tbody>\n",
       "</table>\n",
       "</div>"
      ],
      "text/plain": [
       "                  Open        High         Low       Close   Adj Close  \\\n",
       "Date                                                                     \n",
       "2020-03-02  100.410004  105.739998   99.360001  105.680000  104.986069   \n",
       "2020-03-03  105.139999  106.870003  100.379997  101.760002  101.091820   \n",
       "2020-03-04  102.169998  104.809998  100.330002  104.709999  104.022446   \n",
       "2020-03-05  101.040001  101.930000   98.540001   99.870003   99.214233   \n",
       "2020-03-06   95.440002   97.930000   92.779999   94.910004   94.286797   \n",
       "\n",
       "             Volume  \n",
       "Date                 \n",
       "2020-03-02  1655600  \n",
       "2020-03-03  1665300  \n",
       "2020-03-04  1348800  \n",
       "2020-03-05  1233700  \n",
       "2020-03-06  1890600  "
      ]
     },
     "execution_count": 5,
     "metadata": {},
     "output_type": "execute_result"
    }
   ],
   "source": [
    "dp.head()"
   ]
  },
  {
   "cell_type": "code",
   "execution_count": 68,
   "metadata": {},
   "outputs": [
    {
     "data": {
      "text/plain": [
       "Date\n",
       "2020-03-02    104.986069\n",
       "2020-03-03    101.091820\n",
       "2020-03-04    104.022446\n",
       "2020-03-05     99.214233\n",
       "2020-03-06     94.286797\n",
       "                 ...    \n",
       "2021-02-22    169.800003\n",
       "2021-02-23    172.710007\n",
       "2021-02-24    178.229996\n",
       "2021-02-25    172.899994\n",
       "2021-02-26    164.750000\n",
       "Name: Adj Close, Length: 251, dtype: float64"
      ]
     },
     "execution_count": 68,
     "metadata": {},
     "output_type": "execute_result"
    }
   ],
   "source": [
    "dp['Adj Close']"
   ]
  },
  {
   "cell_type": "code",
   "execution_count": 69,
   "metadata": {},
   "outputs": [],
   "source": [
    "dpt = dp['Adj Close']"
   ]
  },
  {
   "cell_type": "code",
   "execution_count": 70,
   "metadata": {},
   "outputs": [
    {
     "data": {
      "text/plain": [
       "Date\n",
       "2020-03-02    104.986069\n",
       "2020-03-03    101.091820\n",
       "2020-03-04    104.022446\n",
       "2020-03-05     99.214233\n",
       "2020-03-06     94.286797\n",
       "                 ...    \n",
       "2021-02-22    169.800003\n",
       "2021-02-23    172.710007\n",
       "2021-02-24    178.229996\n",
       "2021-02-25    172.899994\n",
       "2021-02-26    164.750000\n",
       "Name: Adj Close, Length: 251, dtype: float64"
      ]
     },
     "execution_count": 70,
     "metadata": {},
     "output_type": "execute_result"
    }
   ],
   "source": [
    "dpt"
   ]
  },
  {
   "cell_type": "code",
   "execution_count": 71,
   "metadata": {},
   "outputs": [
    {
     "data": {
      "text/plain": [
       "<AxesSubplot:xlabel='Date'>"
      ]
     },
     "execution_count": 71,
     "metadata": {},
     "output_type": "execute_result"
    },
    {
     "data": {
      "image/png": "[encoded data removed]",
      "text/plain": [
       "<Figure size 720x432 with 1 Axes>"
      ]
     },
     "metadata": {
      "needs_background": "light"
     },
     "output_type": "display_data"
    }
   ],
   "source": [
    "dpt.plot(figsize=(10, 6))"
   ]
  },
  {
   "cell_type": "code",
   "execution_count": 72,
   "metadata": {},
   "outputs": [
    {
     "data": {
      "text/plain": [
       "Date\n",
       "2020-03-02       NaN\n",
       "2020-03-03   -0.0378\n",
       "2020-03-04    0.0286\n",
       "2020-03-05   -0.0473\n",
       "2020-03-06   -0.0509\n",
       "Name: Adj Close, dtype: float64"
      ]
     },
     "execution_count": 72,
     "metadata": {},
     "output_type": "execute_result"
    }
   ],
   "source": [
    "logdpt = np.log(dpt / dpt.shift(1))\n",
    "logdpt.head().round(4)"
   ]
  },
  {
   "cell_type": "code",
   "execution_count": 73,
   "metadata": {},
   "outputs": [
    {
     "name": "stdout",
     "output_type": "stream",
     "text": [
      " volatility for one year is 0.48537360\n"
     ]
    }
   ],
   "source": [
    "yvol = logdpt.std() * (252 ** 0.5)\n",
    "print(' volatility for one year is %.8f' % (yvol))"
   ]
  },
  {
   "cell_type": "code",
   "execution_count": 74,
   "metadata": {},
   "outputs": [],
   "source": [
    "svol = logdp[126:-1]\n"
   ]
  },
  {
   "cell_type": "code",
   "execution_count": 65,
   "metadata": {},
   "outputs": [
    {
     "ename": "NameError",
     "evalue": "name 'svol' is not defined",
     "output_type": "error",
     "traceback": [
      "\u001b[1;31m---------------------------------------------------------------------------\u001b[0m",
      "\u001b[1;31mNameError\u001b[0m                                 Traceback (most recent call last)",
      "\u001b[1;32m<ipython-input-65-a1ae268d67ec>\u001b[0m in \u001b[0;36m<module>\u001b[1;34m\u001b[0m\n\u001b[1;32m----> 1\u001b[1;33m \u001b[0msvols\u001b[0m \u001b[1;33m=\u001b[0m \u001b[0msvol\u001b[0m\u001b[1;33m.\u001b[0m\u001b[0mstd\u001b[0m\u001b[1;33m(\u001b[0m\u001b[1;33m)\u001b[0m \u001b[1;33m*\u001b[0m \u001b[1;33m(\u001b[0m\u001b[1;36m252\u001b[0m \u001b[1;33m**\u001b[0m \u001b[1;36m0.5\u001b[0m\u001b[1;33m)\u001b[0m\u001b[1;33m\u001b[0m\u001b[1;33m\u001b[0m\u001b[0m\n\u001b[0m",
      "\u001b[1;31mNameError\u001b[0m: name 'svol' is not defined"
     ]
    }
   ],
   "source": [
    "svols = svol.std() * (252 ** 0.5)"
   ]
  },
  {
   "cell_type": "code",
   "execution_count": 76,
   "metadata": {},
   "outputs": [
    {
     "data": {
      "text/plain": [
       "Open         0.321833\n",
       "High         0.297936\n",
       "Low          0.272308\n",
       "Close        0.297228\n",
       "Adj Close    0.296662\n",
       "Volume       6.000190\n",
       "dtype: float64"
      ]
     },
     "execution_count": 76,
     "metadata": {},
     "output_type": "execute_result"
    }
   ],
   "source": [
    "svols"
   ]
  },
  {
   "cell_type": "code",
   "execution_count": 10,
   "metadata": {},
   "outputs": [],
   "source": [
    "def binaryoption(S, K, m, rf, q, vol, payoff):\n",
    "    \n",
    "    #S: spot \n",
    "    #K: strike \n",
    "    #m: time to maturity\n",
    "    #rf: risk free rate\n",
    "    #q: continuous dividend yield\n",
    "    #vol: volatility \n",
    "    #payoff: call or put\n",
    "    \n",
    "    d1 = (np.log(S / K) + (rf - q + 0.5 * vol ** 2) * m) / (vol * np.sqrt(m))\n",
    "    d2 = (np.log(S / K) + (rf - q - 0.5 * vol ** 2) * m) / (vol * np.sqrt(m))\n",
    "    if payoff == \"call\":\n",
    "        option_value = np.exp(-rf * m) * si.norm.cdf(d2, 0.0, 1.0)\n",
    "    elif payoff == \"put\":\n",
    "        option_value = np.exp(-rf * m) * si.norm.cdf(-d2, 0.0, 1.0)\n",
    "    \n",
    "    return option_value"
   ]
  },
  {
   "cell_type": "code",
   "execution_count": 18,
   "metadata": {},
   "outputs": [
    {
     "data": {
      "text/plain": [
       "0.5406665608926788"
      ]
     },
     "execution_count": 18,
     "metadata": {},
     "output_type": "execute_result"
    }
   ],
   "source": [
    "binaryoption(170.09,171,1/12,0.0085,0,0.4853,'put')"
   ]
  },
  {
   "cell_type": "code",
   "execution_count": 19,
   "metadata": {},
   "outputs": [],
   "source": [
    "def delta(S,k,m,rf,q,vol,payoff):\n",
    "    d1 = (np.log(S/k) + (rf + 0.5 * vol **2)*m)/(vol * np.sqrt(m))\n",
    "    d2 = (np.log(S/k) + (rf - 0.5 * vol **2)*m)/(vol * np.sqrt(m))\n",
    "    \n",
    "    if payoff == 'call':\n",
    "        delta =  (np.exp(-rf*m))*si.norm.pdf(d2,0.0,1.0)/(vol*S*np.sqrt(m))\n",
    "    elif payoff == 'put':\n",
    "        delta = -(np.exp(-rf*m)*si.norm.pdf(d2,0.0,1.0))/(vol*S*np.sqrt(m))\n",
    "\n",
    "    return delta"
   ]
  },
  {
   "cell_type": "code",
   "execution_count": 20,
   "metadata": {
    "scrolled": true
   },
   "outputs": [
    {
     "data": {
      "text/plain": [
       "-0.01664166452293578"
      ]
     },
     "execution_count": 20,
     "metadata": {},
     "output_type": "execute_result"
    }
   ],
   "source": [
    "delta(170.09,171,1/12,0.0085,0,0.4853,'put')"
   ]
  },
  {
   "cell_type": "code",
   "execution_count": 35,
   "metadata": {},
   "outputs": [],
   "source": [
    "def theta(S,k,m,rf,q,vol,payoff):\n",
    "    d1 = (np.log(S/k) + (rf + 0.5 * vol **2)*m)/(vol * np.sqrt(m))\n",
    "    d2 = (np.log(S/k) + (rf - 0.5 * vol **2)*m)/(vol * np.sqrt(m))\n",
    "    a = d1/(2*m)\n",
    "    b = (rf-q)/(vol*np.sqrt(m))\n",
    "    if payoff == 'call':\n",
    "        theta = (rf* np.exp(-rf*m)*(si.norm.cdf(d2,0.0,1.0)))+(np.exp(-rf*m)*si.norm.pdf(d2,0.0,1.0))* (a-b)\n",
    "    elif payoff == 'put':\n",
    "        theta = (rf* np.exp(-rf*m)*(1- si.norm.cdf(d2,0.0,1.0)))-(np.exp(-rf*m)*si.norm.pdf(d2,0.0,1.0))* (a-b)\n"
   ]
  },
  {
   "cell_type": "code",
   "execution_count": 38,
   "metadata": {},
   "outputs": [],
   "source": [
    "theta(170.09,171,1/12,0.0085,0,0.4853,'put')\n"
   ]
  },
  {
   "cell_type": "code",
   "execution_count": 47,
   "metadata": {},
   "outputs": [],
   "source": [
    "def gamma(S,k,m,rf,q,vol,payoff):\n",
    "    d1 = (np.log(S/k) + (rf + 0.5 * vol **2)*m)/(vol * np.sqrt(m))\n",
    "    d2 = (np.log(S/k) + (rf - 0.5 * vol **2)*m)/(vol * np.sqrt(m))\n",
    "    \n",
    "    if payoff == 'call':\n",
    "        gamma = (np.exp(-rf*m)*d1*si.norm.pdf(d2,0.0,1.0))/((vol**2)*(S**2)*(m))\n",
    "    elif payoff == 'put':\n",
    "        gamma = -(np.exp(-rf*m)*d1*si.norm.pdf(d2,0.0,1.0))/((vol**2)*(S**2)*(m))\n",
    "\n",
    "    return gamma"
   ]
  },
  {
   "cell_type": "code",
   "execution_count": 48,
   "metadata": {},
   "outputs": [
    {
     "data": {
      "text/plain": [
       "-2.5851297558013277e-05"
      ]
     },
     "execution_count": 48,
     "metadata": {},
     "output_type": "execute_result"
    }
   ],
   "source": [
    "gamma(170.09,171,1/12,0.0085,0,0.4853,'put')"
   ]
  },
  {
   "cell_type": "code",
   "execution_count": 54,
   "metadata": {},
   "outputs": [],
   "source": [
    "def speed(S,k,m,rf,q,vol,payoff):\n",
    "    d1 = (np.log(S/k) + (rf + 0.5 * vol **2)*m)/(vol * np.sqrt(m))\n",
    "    d2 = (np.log(S/k) + (rf - 0.5 * vol **2)*m)/(vol * np.sqrt(m))\n",
    "    a= (np.exp(-rf*m)*si.norm.pdf(d2,0.0,1.0))/((vol**2)*(S**3)*(m))\n",
    "    b= ((-2*d1)+((1-(d1*d2))/(vol*np.sqrt(m))))\n",
    "    \n",
    "    if payoff == 'call':\n",
    "        speed = -a*b\n",
    "    elif payoff == 'put':\n",
    "        speed = a*b\n",
    "\n",
    "    return speed"
   ]
  },
  {
   "cell_type": "code",
   "execution_count": 55,
   "metadata": {},
   "outputs": [
    {
     "data": {
      "text/plain": [
       "2.9116779664776856e-05"
      ]
     },
     "execution_count": 55,
     "metadata": {},
     "output_type": "execute_result"
    }
   ],
   "source": [
    "speed(170.09,171,1/12,0.0085,0,0.4853,'put')"
   ]
  },
  {
   "cell_type": "code",
   "execution_count": 59,
   "metadata": {},
   "outputs": [],
   "source": [
    "def vega(S,k,m,rf,q,vol,payoff):\n",
    "    d1 = (np.log(S/k) + (rf + 0.5 * vol **2)*m)/(vol * np.sqrt(m))\n",
    "    d2 = (np.log(S/k) + (rf - 0.5 * vol **2)*m)/(vol * np.sqrt(m))\n",
    "    a = (np.sqrt(m) + ((d2)/vol))   \n",
    "    if payoff == 'call':\n",
    "        vega = (-np.exp(-rf*m)*si.norm.pdf(d2,0.0,1.0)) * a\n",
    "    elif payoff == 'put':\n",
    "        vega = (np.exp(-rf*m)*si.norm.pdf(d2,0.0,1.0)) * a\n",
    "            \n",
    "    return vega"
   ]
  },
  {
   "cell_type": "code",
   "execution_count": 60,
   "metadata": {},
   "outputs": [
    {
     "data": {
      "text/plain": [
       "0.030246070084444323"
      ]
     },
     "execution_count": 60,
     "metadata": {},
     "output_type": "execute_result"
    }
   ],
   "source": [
    "vega(170.09,171,1/12,0.0085,0,0.4853,'put')"
   ]
  },
  {
   "cell_type": "code",
   "execution_count": 63,
   "metadata": {},
   "outputs": [],
   "source": [
    "def theta(S,k,m,rf,q,vol,payoff):\n",
    "    d1 = (np.log(S/k) + (rf + 0.5 * vol **2)*m)/(vol * np.sqrt(m))\n",
    "    d2 = (np.log(S/k) + (rf - 0.5 * vol **2)*m)/(vol * np.sqrt(m))\n",
    "    a = d1/(2*m)\n",
    "    b = (rf-q)/(vol*np.sqrt(m))\n",
    "    if payoff == 'call':\n",
    "        theta = (rf* np.exp(-rf*m)*(si.norm.cdf(d2,0.0,1.0)))+(np.exp(-rf*m)*si.norm.pdf(d2,0.0,1.0))* (a-b)\n",
    "    elif payoff == 'put':\n",
    "        theta = (rf* np.exp(-rf*m)*(1- si.norm.cdf(d2,0.0,1.0)))-(np.exp(-rf*m)*si.norm.pdf(d2,0.0,1.0))* (a-b)\n",
    "\n",
    "    return theta"
   ]
  },
  {
   "cell_type": "code",
   "execution_count": 64,
   "metadata": {},
   "outputs": [
    {
     "data": {
      "text/plain": [
       "-0.059414904995295045"
      ]
     },
     "execution_count": 64,
     "metadata": {},
     "output_type": "execute_result"
    }
   ],
   "source": [
    "theta(170.09,171,1/12,0.0085,0,0.4853,'put')"
   ]
  },
  {
   "cell_type": "code",
   "execution_count": null,
   "metadata": {},
   "outputs": [],
   "source": [
    "s=170.09     spot price\n",
    "k=171.00     strike\n",
    "T=1/12       maturity\n",
    "rf=0.0085    risk free rate\n",
    "vol=0.4853   volatility\n",
    "N =3         number of time steps\n",
    "payoff=\"put\" payoff"
   ]
  },
  {
   "cell_type": "code",
   "execution_count": null,
   "metadata": {},
   "outputs": [],
   "source": [
    "dt= float(t) / N        Delta t\n",
    "u = "
   ]
  }
 ],
 "metadata": {
  "kernelspec": {
   "display_name": "Python 3",
   "language": "python",
   "name": "python3"
  },
  "language_info": {
   "codemirror_mode": {
    "name": "ipython",
    "version": 3
   },
   "file_extension": ".py",
   "mimetype": "text/x-python",
   "name": "python",
   "nbconvert_exporter": "python",
   "pygments_lexer": "ipython3",
   "version": "3.8.5"
  }
 },
 "nbformat": 4,
 "nbformat_minor": 4
}
